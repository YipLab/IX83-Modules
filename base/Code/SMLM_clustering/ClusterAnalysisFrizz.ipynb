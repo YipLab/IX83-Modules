{
 "cells": [
  {
   "cell_type": "markdown",
   "id": "821013ed-0435-4ccf-8106-f1b204ee1835",
   "metadata": {},
   "source": [
    "# Cluster Analysis for Frizz Collab #\n",
    "Aaron Au - Yip Lab 2024\n",
    "\n",
    "This script is designed to import HDF5 files from Picasso filtered or HDF filtered images and process localization data with certain clustering data"
   ]
  },
  {
   "cell_type": "code",
   "execution_count": 557,
   "id": "e9becab1",
   "metadata": {},
   "outputs": [],
   "source": [
    "import h5py\n",
    "import locan as lc\n",
    "from locan.data.filter import random_subset\n",
    "import numpy as np\n",
    "import os\n",
    "import pandas as pd\n",
    "import scipy.spatial as spatial\n",
    "import shutil\n",
    "import skimage.measure as measure\n",
    "import skimage.morphology as morph\n",
    "import tifffile as tf\n",
    "from tqdm.notebook import tqdm\n",
    "import matplotlib as mpl\n",
    "import matplotlib.pyplot as plt\n",
    "import matplotlib.cm as cm\n",
    "import time"
   ]
  },
  {
   "cell_type": "code",
   "execution_count": 530,
   "id": "13bd1491-c5d0-40a7-984d-f4043ee7808e",
   "metadata": {},
   "outputs": [],
   "source": [
    "folder = \"\\\\\\\\5.5.5.250\\\\share01\\\\yipgroup\\\\Au_Aaron\\\\02164-FRIZZ_SM\\\\\" #Location where hdf files are stored\n",
    "save_folder = \"\\\\\\\\5.5.5.250\\\\share01\\\\yipgroup\\\\Au_Aaron\\\\02164-FRIZZ_SM\\\\processed\\\\\" #Location to save processed data\n",
    "\n",
    "times = [\"290524\", \"210524\", \"040924\", \"030724\"]\n",
    "files = [\"A\",\"B\",\"C\",\"D\",\"E\",\"F\",\"G\", \"H\"]\n",
    "ite = 5\n",
    "suffix = \".hdf5\"\n",
    "\n",
    "px = 65. #effective pixel size (nm)\n",
    "num_subsets = 1\n",
    "n_points = 10000 # Limit detection per image\n",
    "\n",
    "d_nn = 5 #Distance defined as same blink\n",
    "\n",
    "#For NN analysis\n",
    "ks = [1,2,4,8,16,32] #K values\n",
    "\n"
   ]
  },
  {
   "cell_type": "code",
   "execution_count": 161,
   "id": "6decaa83-4d98-48d8-a03a-c3cd3006c010",
   "metadata": {},
   "outputs": [
    {
     "name": "stdout",
     "output_type": "stream",
     "text": [
      "processing data 10000\n",
      "done ('290524', 'A', 1, 1)\n",
      "processing data 10000\n",
      "done ('290524', 'A', 2, 1)\n",
      "processing data 10000\n",
      "done ('290524', 'A', 3, 1)\n",
      "processing data 10000\n",
      "done ('290524', 'A', 4, 1)\n",
      "processing data 10000\n",
      "done ('290524', 'A', 5, 1)\n",
      "processing data 10000\n",
      "done ('290524', 'B', 1, 1)\n",
      "processing data 10000\n",
      "done ('290524', 'B', 2, 1)\n",
      "processing data 10000\n",
      "done ('290524', 'B', 3, 1)\n",
      "processing data 10000\n",
      "done ('290524', 'B', 4, 1)\n",
      "processing data 10000\n",
      "done ('290524', 'B', 5, 1)\n",
      "processing data 10000\n",
      "done ('290524', 'C', 1, 1)\n",
      "processing data 10000\n",
      "done ('290524', 'C', 2, 1)\n",
      "processing data 10000\n",
      "done ('290524', 'C', 3, 1)\n",
      "processing data 10000\n",
      "done ('290524', 'C', 4, 1)\n",
      "processing data 10000\n",
      "done ('290524', 'C', 5, 1)\n",
      "processing data 10000\n",
      "done ('290524', 'D', 1, 1)\n",
      "processing data 10000\n",
      "done ('290524', 'D', 2, 1)\n",
      "processing data 10000\n",
      "done ('290524', 'D', 3, 1)\n",
      "processing data 10000\n",
      "done ('290524', 'D', 4, 1)\n",
      "processing data 10000\n",
      "done ('290524', 'D', 5, 1)\n",
      "processing data 10000\n",
      "done ('290524', 'E', 1, 1)\n",
      "processing data 10000\n",
      "done ('290524', 'E', 2, 1)\n",
      "processing data 10000\n",
      "done ('290524', 'E', 3, 1)\n",
      "processing data 10000\n",
      "done ('290524', 'E', 4, 1)\n",
      "processing data 10000\n",
      "done ('290524', 'E', 5, 1)\n",
      "processing data 10000\n",
      "done ('290524', 'F', 1, 1)\n",
      "processing data 10000\n",
      "done ('290524', 'F', 2, 1)\n",
      "processing data 10000\n",
      "done ('290524', 'F', 3, 1)\n",
      "processing data 10000\n",
      "done ('290524', 'F', 4, 1)\n",
      "processing data 10000\n",
      "done ('290524', 'F', 5, 1)\n",
      "processing data 10000\n",
      "done ('290524', 'G', 1, 1)\n",
      "processing data 10000\n",
      "done ('290524', 'G', 2, 1)\n",
      "processing data 10000\n",
      "done ('290524', 'G', 3, 1)\n",
      "processing data 10000\n",
      "done ('290524', 'G', 4, 1)\n",
      "processing data 10000\n",
      "done ('290524', 'G', 5, 1)\n",
      "processing data 10000\n",
      "done ('290524', 'H', 1, 1)\n",
      "processing data 10000\n",
      "done ('290524', 'H', 2, 1)\n",
      "processing data 10000\n",
      "done ('290524', 'H', 3, 1)\n",
      "processing data 10000\n",
      "done ('290524', 'H', 4, 1)\n",
      "processing data 10000\n",
      "done ('290524', 'H', 5, 1)\n",
      "processing data 10000\n",
      "done ('210524', 'A', 1, 1)\n",
      "processing data 10000\n",
      "done ('210524', 'A', 2, 1)\n",
      "processing data 10000\n",
      "done ('210524', 'A', 3, 1)\n",
      "processing data 10000\n",
      "done ('210524', 'A', 4, 1)\n",
      "processing data 10000\n",
      "done ('210524', 'A', 5, 1)\n",
      "processing data 10000\n",
      "done ('210524', 'B', 1, 1)\n",
      "processing data 10000\n",
      "done ('210524', 'B', 2, 1)\n",
      "processing data 10000\n",
      "done ('210524', 'B', 3, 1)\n",
      "processing data 10000\n",
      "done ('210524', 'B', 4, 1)\n",
      "processing data 10000\n",
      "done ('210524', 'B', 5, 1)\n",
      "processing data 10000\n",
      "done ('210524', 'C', 1, 1)\n",
      "processing data 10000\n",
      "done ('210524', 'C', 2, 1)\n",
      "processing data 10000\n",
      "done ('210524', 'C', 3, 1)\n",
      "processing data 10000\n",
      "done ('210524', 'C', 4, 1)\n",
      "processing data 10000\n",
      "done ('210524', 'C', 5, 1)\n",
      "processing data 10000\n",
      "done ('210524', 'D', 1, 1)\n",
      "processing data 10000\n",
      "done ('210524', 'D', 2, 1)\n",
      "processing data 10000\n",
      "done ('210524', 'D', 3, 1)\n",
      "processing data 10000\n",
      "done ('210524', 'D', 4, 1)\n",
      "processing data 10000\n",
      "done ('210524', 'D', 5, 1)\n",
      "processing data 10000\n",
      "done ('210524', 'E', 1, 1)\n",
      "processing data 10000\n",
      "done ('210524', 'E', 2, 1)\n",
      "processing data 10000\n",
      "done ('210524', 'E', 3, 1)\n",
      "processing data 10000\n",
      "done ('210524', 'E', 4, 1)\n",
      "processing data 10000\n",
      "done ('210524', 'E', 5, 1)\n",
      "processing data 10000\n",
      "done ('210524', 'F', 1, 1)\n",
      "processing data 10000\n",
      "done ('210524', 'F', 2, 1)\n",
      "processing data 10000\n",
      "done ('210524', 'F', 3, 1)\n",
      "processing data 10000\n",
      "done ('210524', 'F', 4, 1)\n",
      "processing data 10000\n",
      "done ('210524', 'F', 5, 1)\n",
      "processing data 10000\n",
      "done ('210524', 'G', 1, 1)\n",
      "processing data 10000\n",
      "done ('210524', 'G', 2, 1)\n",
      "processing data 10000\n",
      "done ('210524', 'G', 3, 1)\n",
      "processing data 10000\n",
      "done ('210524', 'G', 4, 1)\n",
      "processing data 10000\n",
      "done ('210524', 'G', 5, 1)\n",
      "processing data 10000\n",
      "done ('210524', 'H', 1, 1)\n",
      "processing data 10000\n",
      "done ('210524', 'H', 2, 1)\n",
      "processing data 10000\n",
      "done ('210524', 'H', 3, 1)\n",
      "processing data 10000\n",
      "done ('210524', 'H', 4, 1)\n",
      "processing data 10000\n",
      "done ('210524', 'H', 5, 1)\n",
      "processing data 10000\n",
      "done ('040924', 'A', 1, 1)\n",
      "processing data 10000\n",
      "done ('040924', 'A', 2, 1)\n",
      "processing data 10000\n",
      "done ('040924', 'A', 3, 1)\n",
      "processing data 10000\n",
      "done ('040924', 'A', 4, 1)\n",
      "processing data 10000\n",
      "done ('040924', 'A', 5, 1)\n",
      "processing data 10000\n",
      "done ('040924', 'B', 1, 1)\n",
      "processing data 10000\n",
      "done ('040924', 'B', 2, 1)\n",
      "processing data 10000\n",
      "done ('040924', 'B', 3, 1)\n",
      "processing data 10000\n",
      "done ('040924', 'B', 4, 1)\n",
      "processing data 10000\n",
      "done ('040924', 'B', 5, 1)\n",
      "processing data 10000\n",
      "done ('040924', 'C', 1, 1)\n",
      "processing data 10000\n",
      "done ('040924', 'C', 2, 1)\n",
      "processing data 10000\n",
      "done ('040924', 'C', 3, 1)\n",
      "processing data 10000\n",
      "done ('040924', 'C', 4, 1)\n",
      "processing data 10000\n",
      "done ('040924', 'C', 5, 1)\n",
      "processing data 10000\n",
      "done ('040924', 'D', 1, 1)\n",
      "processing data 10000\n",
      "done ('040924', 'D', 2, 1)\n",
      "processing data 10000\n",
      "done ('040924', 'D', 3, 1)\n",
      "processing data 10000\n",
      "done ('040924', 'D', 4, 1)\n",
      "processing data 10000\n",
      "done ('040924', 'D', 5, 1)\n",
      "processing data 10000\n",
      "done ('040924', 'E', 1, 1)\n",
      "processing data 10000\n",
      "done ('040924', 'E', 2, 1)\n",
      "processing data 10000\n",
      "done ('040924', 'E', 3, 1)\n",
      "processing data 10000\n",
      "done ('040924', 'E', 4, 1)\n",
      "processing data 10000\n",
      "done ('040924', 'E', 5, 1)\n",
      "processing data 10000\n",
      "done ('040924', 'F', 1, 1)\n",
      "processing data 10000\n",
      "done ('040924', 'F', 2, 1)\n",
      "processing data 10000\n",
      "done ('040924', 'F', 3, 1)\n",
      "processing data 10000\n",
      "done ('040924', 'F', 4, 1)\n",
      "processing data 10000\n",
      "done ('040924', 'F', 5, 1)\n",
      "processing data 10000\n",
      "done ('040924', 'G', 1, 1)\n",
      "processing data 10000\n",
      "done ('040924', 'G', 2, 1)\n",
      "processing data 10000\n",
      "done ('040924', 'G', 3, 1)\n",
      "processing data 10000\n",
      "done ('040924', 'G', 4, 1)\n",
      "processing data 10000\n",
      "done ('040924', 'G', 5, 1)\n",
      "processing data 10000\n",
      "done ('040924', 'H', 1, 1)\n",
      "processing data 10000\n",
      "done ('040924', 'H', 2, 1)\n",
      "processing data 10000\n",
      "done ('040924', 'H', 3, 1)\n",
      "processing data 10000\n",
      "done ('040924', 'H', 4, 1)\n",
      "processing data 10000\n",
      "done ('040924', 'H', 5, 1)\n",
      "processing data 10000\n",
      "done ('030724', 'A', 1, 1)\n",
      "processing data 10000\n",
      "done ('030724', 'A', 2, 1)\n",
      "processing data 10000\n",
      "done ('030724', 'A', 3, 1)\n",
      "processing data 10000\n",
      "done ('030724', 'A', 4, 1)\n",
      "processing data 10000\n",
      "done ('030724', 'A', 5, 1)\n",
      "processing data 10000\n",
      "done ('030724', 'B', 1, 1)\n",
      "processing data 10000\n",
      "done ('030724', 'B', 2, 1)\n",
      "processing data 10000\n",
      "done ('030724', 'B', 3, 1)\n",
      "processing data 10000\n",
      "done ('030724', 'B', 4, 1)\n",
      "processing data 10000\n",
      "done ('030724', 'B', 5, 1)\n",
      "processing data 10000\n",
      "done ('030724', 'C', 1, 1)\n",
      "processing data 10000\n",
      "done ('030724', 'C', 2, 1)\n",
      "processing data 10000\n",
      "done ('030724', 'C', 3, 1)\n",
      "processing data 10000\n",
      "done ('030724', 'C', 4, 1)\n",
      "processing data 10000\n",
      "done ('030724', 'C', 5, 1)\n",
      "processing data 10000\n",
      "done ('030724', 'D', 1, 1)\n",
      "processing data 10000\n",
      "done ('030724', 'D', 2, 1)\n",
      "processing data 10000\n",
      "done ('030724', 'D', 3, 1)\n",
      "processing data 10000\n",
      "done ('030724', 'D', 4, 1)\n",
      "processing data 10000\n",
      "done ('030724', 'D', 5, 1)\n",
      "processing data 10000\n",
      "done ('030724', 'E', 1, 1)\n",
      "processing data 10000\n",
      "done ('030724', 'E', 2, 1)\n",
      "processing data 10000\n",
      "done ('030724', 'E', 3, 1)\n",
      "processing data 10000\n",
      "done ('030724', 'E', 4, 1)\n",
      "processing data 10000\n",
      "done ('030724', 'E', 5, 1)\n",
      "processing data 10000\n",
      "done ('030724', 'F', 1, 1)\n",
      "processing data 10000\n",
      "done ('030724', 'F', 2, 1)\n",
      "processing data 10000\n",
      "done ('030724', 'F', 3, 1)\n",
      "processing data 10000\n",
      "done ('030724', 'F', 4, 1)\n",
      "processing data 10000\n",
      "done ('030724', 'F', 5, 1)\n",
      "processing data 10000\n",
      "done ('030724', 'G', 1, 1)\n",
      "processing data 10000\n",
      "done ('030724', 'G', 2, 1)\n",
      "processing data 10000\n",
      "done ('030724', 'G', 3, 1)\n",
      "processing data 10000\n",
      "done ('030724', 'G', 4, 1)\n",
      "processing data 10000\n",
      "done ('030724', 'G', 5, 1)\n",
      "processing data 10000\n",
      "done ('030724', 'H', 1, 1)\n",
      "processing data 10000\n",
      "done ('030724', 'H', 2, 1)\n",
      "processing data 10000\n",
      "done ('030724', 'H', 3, 1)\n",
      "processing data 10000\n",
      "done ('030724', 'H', 4, 1)\n",
      "processing data 10000\n",
      "done ('030724', 'H', 5, 1)\n"
     ]
    }
   ],
   "source": [
    "#Process clustering data\n",
    "cols = [\"file\", \"time\", \"trial\", \"sub\", \"NN\", \"Voronoi\", \"HDBSCAN\", \"ripleyH\"]\n",
    "\n",
    "data = []\n",
    "for time in times:\n",
    "    for file in files:\n",
    "        for i in range(1,ite+1):\n",
    "            #Import localization data\n",
    "            df = pd.DataFrame(np.array(h5py.File(folder  +  time + \"\\\\\" + file +\"_\"+ str(i)+suffix)['locs']))\n",
    "            #Convert from camera pixel data to distances\n",
    "            df['lpx']= df['lpx']*px\n",
    "            df['lpy']= df['lpy']*px\n",
    "            df['x'] = df['x']*px\n",
    "            df['y'] = df['y']*px\n",
    "\n",
    "            #Convert to locan data\n",
    "            locdata = lc.LocData.from_dataframe(dataframe = df.rename(columns={\"x\": \"position_x\", \"y\": \"position_y\",\n",
    "                                                                              \"lpx\": \"uncertainty_x\", \"lpy\": \"uncertainty_y\"}))\n",
    "            #Remove reoccuring blinks\n",
    "            diff = 10;\n",
    "            while diff != 0:\n",
    "                nn = lc.NearestNeighborDistances(k=1)\n",
    "                nn.compute(locdata)\n",
    "                nn.results = nn.results.rename(index = dict(zip(nn.results.index, locdata.dataframe.index)))\n",
    "                start = len(locdata.dataframe)\n",
    "                mask = (nn.results[\"nn_distance\"] < d_nn) & (nn.results[\"nn_index\"] < locdata.dataframe.index) #want to remove these ones\n",
    "                locdata.dataframe = locdata.dataframe.loc[mask == False]\n",
    "                diff = start - len(locdata.dataframe)       \n",
    "            \n",
    "            #Process for each image + subset\n",
    "            subsets = []\n",
    "            for j in range(num_subsets):\n",
    "                subsets.append(lc.random_subset(locdata, n_points = n_points))\n",
    "        \n",
    "            j = 0\n",
    "            for subset in subsets: \n",
    "                #NEAREST NEIGHBOUR ANALYSIS\n",
    "                nns = []\n",
    "                print(f'processing data {len(subset)}')\n",
    "                for k in ks:\n",
    "                    nn = lc.NearestNeighborDistances(k=k)\n",
    "                    nn.compute(subset)\n",
    "                    nns.append(nn)\n",
    "\n",
    "                #VORONOI ANALYSIS\n",
    "                vor = spatial.Voronoi(subset.coordinates)\n",
    "\n",
    "                #HDBSCAN ANALYSIS\n",
    "                noise, clust = lc.cluster_hdbscan(subset, min_samples=2)\n",
    "    \n",
    "                #RIPLEYS H ANALYSIS\n",
    "                rhf = lc.RipleysHFunction(radii=np.linspace(0,500,51)).compute(locdata, other_locdata = subset)\n",
    "\n",
    "                #Add to data\n",
    "                data.append([file, time, i, j, nns, vor, (noise, clust), rhf])\n",
    "                j+=1\n",
    "\n",
    "                #Uncomment for progress\n",
    "                #print(f'done {time, file, i,j}')\n",
    "\n",
    "# Save processed data\n",
    "df = pd.DataFrame(data, columns = cols)\n",
    "df.to_pickle(folder + 'pickled_data.pkl')"
   ]
  },
  {
   "cell_type": "code",
   "execution_count": 328,
   "id": "e8b81bb9-deda-491f-bf99-9046cedc008d",
   "metadata": {},
   "outputs": [],
   "source": [
    "df = pd.read_pickle(folder + 'pickled_data.pkl')"
   ]
  },
  {
   "cell_type": "code",
   "execution_count": 464,
   "id": "6b908f83-a426-4efe-9263-ee70db4804ab",
   "metadata": {},
   "outputs": [],
   "source": [
    "#Combine Voronoi, NN data into a table\n",
    "#into a single table\n",
    "cols = ['file', 'time', 'trial', 'position_x', 'position_y', 'NN', 'Vor_area']\n",
    "data = []\n",
    "for file in files:\n",
    "    for time in times:\n",
    "        for trial in range(5):\n",
    "            matches = df[(df['file'] == file) & (df['time'] == time) & (df['trial'] == trial+1)]\n",
    "            #Extract Voronoi data\n",
    "            vor = matches.iloc[0]['Voronoi']\n",
    "            #Get volume of all closed polygons\n",
    "            vol_Vor = np.zeros(vor.npoints)\n",
    "            for idx, i_region in enumerate(vor.point_region):\n",
    "                if -1 not in vor.regions[i_region]: #Remove open polygons\n",
    "                    vol_Vor[idx] = spatial.ConvexHull(vor.vertices[vor.regions[i_region]]).volume\n",
    "            #Extract NN data              \n",
    "            #['file', 'time', 'trial', 'position_x', 'position_y', 'NN', 'Vor_area']\n",
    "            nn = matches.iloc[0]['NN']\n",
    "            for pt in range(vor.npoints):\n",
    "                data.append([file, time, trial+1, vor.points[pt,0], vor.points[pt,1]\n",
    "                             , [nn[i].results['nn_distance'][pt] for i in range(len(ks))]\n",
    "                             , vol_Vor[pt]])\n",
    "\n",
    "#Save data\n",
    "df_combo = pd.DataFrame(data, columns = cols)\n",
    "df_combo.to_pickle(folder + 'pickled_combo_data.pkl')"
   ]
  },
  {
   "cell_type": "code",
   "execution_count": 512,
   "id": "bb9fb982-3465-45a5-9c39-480389631d44",
   "metadata": {},
   "outputs": [],
   "source": [
    "#EXPORT nn data from combo\n",
    "bins = np.linspace(5,505,51)\n",
    "\n",
    "for file in files:\n",
    "    writer = pd.ExcelWriter(save_folder + file + \"_nns.xlsx\", engine='xlsxwriter')\n",
    "    j = 0\n",
    "    data = np.zeros([(len(times)*5)+1,len(bins)-1, len(ks)])\n",
    "    cols = ['distance']\n",
    "    for time in times:\n",
    "        for t in range(5):\n",
    "            matches = df_combo[(df_combo['file']==file) & (df_combo['time']==time) & (df_combo['trial']==t+1)]\n",
    "            nns = np.stack(matches['NN'].to_numpy())\n",
    "            cols.append(time + \"_\" +file + str(t+1))\n",
    "            for i in range(len(ks)):\n",
    "                data[j*5+t+1,:, i],_ = np.histogram(nns[:,i], bins = bins, weights=np.ones_like(nns[:,i]) / len(nns[:,i]), density = True)\n",
    "        j+=1\n",
    "    #Export Data\n",
    "    for i in range(len(ks)):\n",
    "        data[0,:,i] = bins[:-1]\n",
    "        df_temp = pd.DataFrame(data=data[:,:,i].T, columns = cols)\n",
    "        df_temp.to_excel(writer, sheet_name = str(ks[i]), index = False)\n",
    "    writer.close()                              "
   ]
  },
  {
   "cell_type": "code",
   "execution_count": 528,
   "id": "ec04fdfd-00d9-4b66-9efd-0cdd712d70e2",
   "metadata": {},
   "outputs": [],
   "source": [
    "#Export vor data from combo\n",
    "bins = np.linspace(5,10000,501)\n",
    "\n",
    "for file in files:\n",
    "    writer = pd.ExcelWriter(save_folder + file + \"_vor.xlsx\", engine='xlsxwriter')\n",
    "    j = 0\n",
    "    data = np.zeros([(len(times)*5)+1,len(bins)-1])\n",
    "    cols = ['distance']\n",
    "    for time in times:\n",
    "        for t in range(5):\n",
    "            matches = df_combo[(df_combo['file']==file) & (df_combo['time']==time) & (df_combo['trial']==t+1)]\n",
    "            vor_A = np.stack(matches['Vor_area'].to_numpy())\n",
    "            cols.append(time + \"_\" +file + str(t+1))\n",
    "            for i in range(len(ks)):\n",
    "                data[j*5+t+1,:],_ = np.histogram(vor_A, bins = bins, weights=np.ones_like(vor_A) / len(vor_A), density = True)\n",
    "        j+=1\n",
    "    #Export Data\n",
    "    data[0,:] = bins[:-1]\n",
    "    df_temp = pd.DataFrame(data=data.T, columns = cols)\n",
    "    df_temp.to_excel(writer, sheet_name = 'AREAS', index = False)\n",
    "    writer.close()"
   ]
  },
  {
   "cell_type": "code",
   "execution_count": 575,
   "id": "53053d06-dc6e-4608-81f3-a3beecdad0d8",
   "metadata": {},
   "outputs": [
    {
     "ename": "ValueError",
     "evalue": "This sheet is too large! Your sheet size is: 1307397, 12 Max sheet size is: 1048576, 16384",
     "output_type": "error",
     "traceback": [
      "\u001b[1;31m---------------------------------------------------------------------------\u001b[0m",
      "\u001b[1;31mValueError\u001b[0m                                Traceback (most recent call last)",
      "Cell \u001b[1;32mIn[575], line 12\u001b[0m\n\u001b[0;32m      7\u001b[0m         data\u001b[38;5;241m.\u001b[39mappend([row[\u001b[38;5;124m'\u001b[39m\u001b[38;5;124mfile\u001b[39m\u001b[38;5;124m'\u001b[39m], row[\u001b[38;5;124m'\u001b[39m\u001b[38;5;124mtime\u001b[39m\u001b[38;5;124m'\u001b[39m], row[\u001b[38;5;124m'\u001b[39m\u001b[38;5;124mtrial\u001b[39m\u001b[38;5;124m'\u001b[39m], row[\u001b[38;5;124m'\u001b[39m\u001b[38;5;124mposition_x\u001b[39m\u001b[38;5;124m'\u001b[39m], row[\u001b[38;5;124m'\u001b[39m\u001b[38;5;124mposition_y\u001b[39m\u001b[38;5;124m'\u001b[39m], row[\u001b[38;5;124m'\u001b[39m\u001b[38;5;124mVor_area\u001b[39m\u001b[38;5;124m'\u001b[39m], \n\u001b[0;32m      8\u001b[0m                 row[\u001b[38;5;124m'\u001b[39m\u001b[38;5;124mNN\u001b[39m\u001b[38;5;124m'\u001b[39m][\u001b[38;5;241m0\u001b[39m], row[\u001b[38;5;124m'\u001b[39m\u001b[38;5;124mNN\u001b[39m\u001b[38;5;124m'\u001b[39m][\u001b[38;5;241m1\u001b[39m], row[\u001b[38;5;124m'\u001b[39m\u001b[38;5;124mNN\u001b[39m\u001b[38;5;124m'\u001b[39m][\u001b[38;5;241m2\u001b[39m], row[\u001b[38;5;124m'\u001b[39m\u001b[38;5;124mNN\u001b[39m\u001b[38;5;124m'\u001b[39m][\u001b[38;5;241m3\u001b[39m], row[\u001b[38;5;124m'\u001b[39m\u001b[38;5;124mNN\u001b[39m\u001b[38;5;124m'\u001b[39m][\u001b[38;5;241m4\u001b[39m], row[\u001b[38;5;124m'\u001b[39m\u001b[38;5;124mNN\u001b[39m\u001b[38;5;124m'\u001b[39m][\u001b[38;5;241m5\u001b[39m]])\n\u001b[0;32m     11\u001b[0m df_temp \u001b[38;5;241m=\u001b[39m pd\u001b[38;5;241m.\u001b[39mDataFrame(data\u001b[38;5;241m=\u001b[39mdata, columns \u001b[38;5;241m=\u001b[39m cols)\n\u001b[1;32m---> 12\u001b[0m \u001b[43mdf_temp\u001b[49m\u001b[38;5;241;43m.\u001b[39;49m\u001b[43mto_excel\u001b[49m\u001b[43m(\u001b[49m\u001b[43mwriter\u001b[49m\u001b[43m,\u001b[49m\u001b[43m \u001b[49m\u001b[43msheet_name\u001b[49m\u001b[43m \u001b[49m\u001b[38;5;241;43m=\u001b[39;49m\u001b[43m \u001b[49m\u001b[38;5;124;43m'\u001b[39;49m\u001b[38;5;124;43mdata\u001b[39;49m\u001b[38;5;124;43m'\u001b[39;49m\u001b[43m,\u001b[49m\u001b[43m \u001b[49m\u001b[43mindex\u001b[49m\u001b[43m \u001b[49m\u001b[38;5;241;43m=\u001b[39;49m\u001b[43m \u001b[49m\u001b[38;5;28;43;01mFalse\u001b[39;49;00m\u001b[43m)\u001b[49m\n\u001b[0;32m     13\u001b[0m writer\u001b[38;5;241m.\u001b[39mclose()\n",
      "File \u001b[1;32m~\\AppData\\Local\\Programs\\Python\\Python311\\Lib\\site-packages\\pandas\\core\\generic.py:2252\u001b[0m, in \u001b[0;36mNDFrame.to_excel\u001b[1;34m(self, excel_writer, sheet_name, na_rep, float_format, columns, header, index, index_label, startrow, startcol, engine, merge_cells, inf_rep, freeze_panes, storage_options)\u001b[0m\n\u001b[0;32m   2239\u001b[0m \u001b[38;5;28;01mfrom\u001b[39;00m \u001b[38;5;21;01mpandas\u001b[39;00m\u001b[38;5;21;01m.\u001b[39;00m\u001b[38;5;21;01mio\u001b[39;00m\u001b[38;5;21;01m.\u001b[39;00m\u001b[38;5;21;01mformats\u001b[39;00m\u001b[38;5;21;01m.\u001b[39;00m\u001b[38;5;21;01mexcel\u001b[39;00m \u001b[38;5;28;01mimport\u001b[39;00m ExcelFormatter\n\u001b[0;32m   2241\u001b[0m formatter \u001b[38;5;241m=\u001b[39m ExcelFormatter(\n\u001b[0;32m   2242\u001b[0m     df,\n\u001b[0;32m   2243\u001b[0m     na_rep\u001b[38;5;241m=\u001b[39mna_rep,\n\u001b[1;32m   (...)\u001b[0m\n\u001b[0;32m   2250\u001b[0m     inf_rep\u001b[38;5;241m=\u001b[39minf_rep,\n\u001b[0;32m   2251\u001b[0m )\n\u001b[1;32m-> 2252\u001b[0m \u001b[43mformatter\u001b[49m\u001b[38;5;241;43m.\u001b[39;49m\u001b[43mwrite\u001b[49m\u001b[43m(\u001b[49m\n\u001b[0;32m   2253\u001b[0m \u001b[43m    \u001b[49m\u001b[43mexcel_writer\u001b[49m\u001b[43m,\u001b[49m\n\u001b[0;32m   2254\u001b[0m \u001b[43m    \u001b[49m\u001b[43msheet_name\u001b[49m\u001b[38;5;241;43m=\u001b[39;49m\u001b[43msheet_name\u001b[49m\u001b[43m,\u001b[49m\n\u001b[0;32m   2255\u001b[0m \u001b[43m    \u001b[49m\u001b[43mstartrow\u001b[49m\u001b[38;5;241;43m=\u001b[39;49m\u001b[43mstartrow\u001b[49m\u001b[43m,\u001b[49m\n\u001b[0;32m   2256\u001b[0m \u001b[43m    \u001b[49m\u001b[43mstartcol\u001b[49m\u001b[38;5;241;43m=\u001b[39;49m\u001b[43mstartcol\u001b[49m\u001b[43m,\u001b[49m\n\u001b[0;32m   2257\u001b[0m \u001b[43m    \u001b[49m\u001b[43mfreeze_panes\u001b[49m\u001b[38;5;241;43m=\u001b[39;49m\u001b[43mfreeze_panes\u001b[49m\u001b[43m,\u001b[49m\n\u001b[0;32m   2258\u001b[0m \u001b[43m    \u001b[49m\u001b[43mengine\u001b[49m\u001b[38;5;241;43m=\u001b[39;49m\u001b[43mengine\u001b[49m\u001b[43m,\u001b[49m\n\u001b[0;32m   2259\u001b[0m \u001b[43m    \u001b[49m\u001b[43mstorage_options\u001b[49m\u001b[38;5;241;43m=\u001b[39;49m\u001b[43mstorage_options\u001b[49m\u001b[43m,\u001b[49m\n\u001b[0;32m   2260\u001b[0m \u001b[43m\u001b[49m\u001b[43m)\u001b[49m\n",
      "File \u001b[1;32m~\\AppData\\Local\\Programs\\Python\\Python311\\Lib\\site-packages\\pandas\\io\\formats\\excel.py:923\u001b[0m, in \u001b[0;36mExcelFormatter.write\u001b[1;34m(self, writer, sheet_name, startrow, startcol, freeze_panes, engine, storage_options)\u001b[0m\n\u001b[0;32m    921\u001b[0m num_rows, num_cols \u001b[38;5;241m=\u001b[39m \u001b[38;5;28mself\u001b[39m\u001b[38;5;241m.\u001b[39mdf\u001b[38;5;241m.\u001b[39mshape\n\u001b[0;32m    922\u001b[0m \u001b[38;5;28;01mif\u001b[39;00m num_rows \u001b[38;5;241m>\u001b[39m \u001b[38;5;28mself\u001b[39m\u001b[38;5;241m.\u001b[39mmax_rows \u001b[38;5;129;01mor\u001b[39;00m num_cols \u001b[38;5;241m>\u001b[39m \u001b[38;5;28mself\u001b[39m\u001b[38;5;241m.\u001b[39mmax_cols:\n\u001b[1;32m--> 923\u001b[0m     \u001b[38;5;28;01mraise\u001b[39;00m \u001b[38;5;167;01mValueError\u001b[39;00m(\n\u001b[0;32m    924\u001b[0m         \u001b[38;5;124mf\u001b[39m\u001b[38;5;124m\"\u001b[39m\u001b[38;5;124mThis sheet is too large! Your sheet size is: \u001b[39m\u001b[38;5;132;01m{\u001b[39;00mnum_rows\u001b[38;5;132;01m}\u001b[39;00m\u001b[38;5;124m, \u001b[39m\u001b[38;5;132;01m{\u001b[39;00mnum_cols\u001b[38;5;132;01m}\u001b[39;00m\u001b[38;5;124m \u001b[39m\u001b[38;5;124m\"\u001b[39m\n\u001b[0;32m    925\u001b[0m         \u001b[38;5;124mf\u001b[39m\u001b[38;5;124m\"\u001b[39m\u001b[38;5;124mMax sheet size is: \u001b[39m\u001b[38;5;132;01m{\u001b[39;00m\u001b[38;5;28mself\u001b[39m\u001b[38;5;241m.\u001b[39mmax_rows\u001b[38;5;132;01m}\u001b[39;00m\u001b[38;5;124m, \u001b[39m\u001b[38;5;132;01m{\u001b[39;00m\u001b[38;5;28mself\u001b[39m\u001b[38;5;241m.\u001b[39mmax_cols\u001b[38;5;132;01m}\u001b[39;00m\u001b[38;5;124m\"\u001b[39m\n\u001b[0;32m    926\u001b[0m     )\n\u001b[0;32m    928\u001b[0m formatted_cells \u001b[38;5;241m=\u001b[39m \u001b[38;5;28mself\u001b[39m\u001b[38;5;241m.\u001b[39mget_formatted_cells()\n\u001b[0;32m    929\u001b[0m \u001b[38;5;28;01mif\u001b[39;00m \u001b[38;5;28misinstance\u001b[39m(writer, ExcelWriter):\n",
      "\u001b[1;31mValueError\u001b[0m: This sheet is too large! Your sheet size is: 1307397, 12 Max sheet size is: 1048576, 16384"
     ]
    }
   ],
   "source": [
    "#Compare NNs vs Vor data\n",
    "cols = ['file', 'time', 'trial', 'position_x', 'position_y', 'Vor_area', 'NN1', 'NN2', 'NN4','NN8', 'NN16', 'NN32']\n",
    "data = []\n",
    "\n",
    "writer = pd.ExcelWriter(\"nnvsvor.xlsx\", engine='xlsxwriter')\n",
    "for i, row in df_combo.iterrows():\n",
    "    if row['NN'][0] > 0.1:\n",
    "        data.append([row['file'], row['time'], row['trial'], row['position_x'], row['position_y'], row['Vor_area'], \n",
    "                row['NN'][0], row['NN'][1], row['NN'][2], row['NN'][3], row['NN'][4], row['NN'][5]])\n",
    "    \n",
    "\n",
    "df_temp = pd.DataFrame(data=data, columns = cols)\n",
    "if len(df_temp) > 1000000:\n",
    "    df_temp[:1000000].to_excel(writer, sheet_name = 'pt1', index = False)\n",
    "    df_temp[1000000-len(df_temp):].to_excel(writer, sheet_name = 'pt2', index = False)\n",
    "else:\n",
    "    df_temp.to_excel(writer, sheet_name = 'data', index = False)\n",
    "writer.close()"
   ]
  },
  {
   "cell_type": "code",
   "execution_count": 525,
   "id": "0e2cc740-d962-4685-be97-32a97f259080",
   "metadata": {},
   "outputs": [
    {
     "name": "stderr",
     "output_type": "stream",
     "text": [
      "C:\\Users\\YipGroup\\AppData\\Local\\Temp\\ipykernel_1776\\3174165167.py:8: RuntimeWarning: More than 20 figures have been opened. Figures created through the pyplot interface (`matplotlib.pyplot.figure`) are retained until explicitly closed and may consume too much memory. (To control this warning, see the rcParam `figure.max_open_warning`). Consider using `matplotlib.pyplot.close()`.\n",
      "  fig, ax = plt.subplots(figsize=(20,20))\n"
     ]
    },
    {
     "data": {
      "text/plain": [
       "<Figure size 2000x2000 with 0 Axes>"
      ]
     },
     "metadata": {},
     "output_type": "display_data"
    },
    {
     "data": {
      "text/plain": [
       "<Figure size 2000x2000 with 0 Axes>"
      ]
     },
     "metadata": {},
     "output_type": "display_data"
    },
    {
     "data": {
      "text/plain": [
       "<Figure size 2000x2000 with 0 Axes>"
      ]
     },
     "metadata": {},
     "output_type": "display_data"
    },
    {
     "data": {
      "text/plain": [
       "<Figure size 2000x2000 with 0 Axes>"
      ]
     },
     "metadata": {},
     "output_type": "display_data"
    },
    {
     "data": {
      "text/plain": [
       "<Figure size 2000x2000 with 0 Axes>"
      ]
     },
     "metadata": {},
     "output_type": "display_data"
    },
    {
     "data": {
      "text/plain": [
       "<Figure size 2000x2000 with 0 Axes>"
      ]
     },
     "metadata": {},
     "output_type": "display_data"
    },
    {
     "data": {
      "text/plain": [
       "<Figure size 2000x2000 with 0 Axes>"
      ]
     },
     "metadata": {},
     "output_type": "display_data"
    },
    {
     "data": {
      "text/plain": [
       "<Figure size 2000x2000 with 0 Axes>"
      ]
     },
     "metadata": {},
     "output_type": "display_data"
    },
    {
     "data": {
      "text/plain": [
       "<Figure size 2000x2000 with 0 Axes>"
      ]
     },
     "metadata": {},
     "output_type": "display_data"
    },
    {
     "data": {
      "text/plain": [
       "<Figure size 2000x2000 with 0 Axes>"
      ]
     },
     "metadata": {},
     "output_type": "display_data"
    },
    {
     "data": {
      "text/plain": [
       "<Figure size 2000x2000 with 0 Axes>"
      ]
     },
     "metadata": {},
     "output_type": "display_data"
    },
    {
     "data": {
      "text/plain": [
       "<Figure size 2000x2000 with 0 Axes>"
      ]
     },
     "metadata": {},
     "output_type": "display_data"
    },
    {
     "data": {
      "text/plain": [
       "<Figure size 2000x2000 with 0 Axes>"
      ]
     },
     "metadata": {},
     "output_type": "display_data"
    },
    {
     "data": {
      "text/plain": [
       "<Figure size 2000x2000 with 0 Axes>"
      ]
     },
     "metadata": {},
     "output_type": "display_data"
    },
    {
     "data": {
      "text/plain": [
       "<Figure size 2000x2000 with 0 Axes>"
      ]
     },
     "metadata": {},
     "output_type": "display_data"
    },
    {
     "data": {
      "text/plain": [
       "<Figure size 2000x2000 with 0 Axes>"
      ]
     },
     "metadata": {},
     "output_type": "display_data"
    },
    {
     "data": {
      "text/plain": [
       "<Figure size 2000x2000 with 0 Axes>"
      ]
     },
     "metadata": {},
     "output_type": "display_data"
    },
    {
     "data": {
      "text/plain": [
       "<Figure size 2000x2000 with 0 Axes>"
      ]
     },
     "metadata": {},
     "output_type": "display_data"
    },
    {
     "data": {
      "text/plain": [
       "<Figure size 2000x2000 with 0 Axes>"
      ]
     },
     "metadata": {},
     "output_type": "display_data"
    },
    {
     "data": {
      "text/plain": [
       "<Figure size 2000x2000 with 0 Axes>"
      ]
     },
     "metadata": {},
     "output_type": "display_data"
    },
    {
     "data": {
      "text/plain": [
       "<Figure size 2000x2000 with 0 Axes>"
      ]
     },
     "metadata": {},
     "output_type": "display_data"
    },
    {
     "data": {
      "text/plain": [
       "<Figure size 2000x2000 with 0 Axes>"
      ]
     },
     "metadata": {},
     "output_type": "display_data"
    },
    {
     "data": {
      "text/plain": [
       "<Figure size 2000x2000 with 0 Axes>"
      ]
     },
     "metadata": {},
     "output_type": "display_data"
    },
    {
     "data": {
      "text/plain": [
       "<Figure size 2000x2000 with 0 Axes>"
      ]
     },
     "metadata": {},
     "output_type": "display_data"
    },
    {
     "data": {
      "text/plain": [
       "<Figure size 2000x2000 with 0 Axes>"
      ]
     },
     "metadata": {},
     "output_type": "display_data"
    },
    {
     "data": {
      "text/plain": [
       "<Figure size 2000x2000 with 0 Axes>"
      ]
     },
     "metadata": {},
     "output_type": "display_data"
    },
    {
     "data": {
      "text/plain": [
       "<Figure size 2000x2000 with 0 Axes>"
      ]
     },
     "metadata": {},
     "output_type": "display_data"
    },
    {
     "data": {
      "text/plain": [
       "<Figure size 2000x2000 with 0 Axes>"
      ]
     },
     "metadata": {},
     "output_type": "display_data"
    },
    {
     "data": {
      "text/plain": [
       "<Figure size 2000x2000 with 0 Axes>"
      ]
     },
     "metadata": {},
     "output_type": "display_data"
    },
    {
     "data": {
      "text/plain": [
       "<Figure size 2000x2000 with 0 Axes>"
      ]
     },
     "metadata": {},
     "output_type": "display_data"
    },
    {
     "data": {
      "text/plain": [
       "<Figure size 2000x2000 with 0 Axes>"
      ]
     },
     "metadata": {},
     "output_type": "display_data"
    },
    {
     "data": {
      "text/plain": [
       "<Figure size 2000x2000 with 0 Axes>"
      ]
     },
     "metadata": {},
     "output_type": "display_data"
    },
    {
     "data": {
      "text/plain": [
       "<Figure size 2000x2000 with 0 Axes>"
      ]
     },
     "metadata": {},
     "output_type": "display_data"
    },
    {
     "data": {
      "text/plain": [
       "<Figure size 2000x2000 with 0 Axes>"
      ]
     },
     "metadata": {},
     "output_type": "display_data"
    },
    {
     "data": {
      "text/plain": [
       "<Figure size 2000x2000 with 0 Axes>"
      ]
     },
     "metadata": {},
     "output_type": "display_data"
    },
    {
     "data": {
      "text/plain": [
       "<Figure size 2000x2000 with 0 Axes>"
      ]
     },
     "metadata": {},
     "output_type": "display_data"
    },
    {
     "data": {
      "text/plain": [
       "<Figure size 2000x2000 with 0 Axes>"
      ]
     },
     "metadata": {},
     "output_type": "display_data"
    },
    {
     "data": {
      "text/plain": [
       "<Figure size 2000x2000 with 0 Axes>"
      ]
     },
     "metadata": {},
     "output_type": "display_data"
    },
    {
     "data": {
      "text/plain": [
       "<Figure size 2000x2000 with 0 Axes>"
      ]
     },
     "metadata": {},
     "output_type": "display_data"
    },
    {
     "data": {
      "text/plain": [
       "<Figure size 2000x2000 with 0 Axes>"
      ]
     },
     "metadata": {},
     "output_type": "display_data"
    },
    {
     "data": {
      "text/plain": [
       "<Figure size 2000x2000 with 0 Axes>"
      ]
     },
     "metadata": {},
     "output_type": "display_data"
    },
    {
     "data": {
      "text/plain": [
       "<Figure size 2000x2000 with 0 Axes>"
      ]
     },
     "metadata": {},
     "output_type": "display_data"
    },
    {
     "data": {
      "text/plain": [
       "<Figure size 2000x2000 with 0 Axes>"
      ]
     },
     "metadata": {},
     "output_type": "display_data"
    },
    {
     "data": {
      "text/plain": [
       "<Figure size 2000x2000 with 0 Axes>"
      ]
     },
     "metadata": {},
     "output_type": "display_data"
    },
    {
     "data": {
      "text/plain": [
       "<Figure size 2000x2000 with 0 Axes>"
      ]
     },
     "metadata": {},
     "output_type": "display_data"
    },
    {
     "data": {
      "text/plain": [
       "<Figure size 2000x2000 with 0 Axes>"
      ]
     },
     "metadata": {},
     "output_type": "display_data"
    },
    {
     "data": {
      "text/plain": [
       "<Figure size 2000x2000 with 0 Axes>"
      ]
     },
     "metadata": {},
     "output_type": "display_data"
    },
    {
     "data": {
      "text/plain": [
       "<Figure size 2000x2000 with 0 Axes>"
      ]
     },
     "metadata": {},
     "output_type": "display_data"
    },
    {
     "data": {
      "text/plain": [
       "<Figure size 2000x2000 with 0 Axes>"
      ]
     },
     "metadata": {},
     "output_type": "display_data"
    },
    {
     "data": {
      "text/plain": [
       "<Figure size 2000x2000 with 0 Axes>"
      ]
     },
     "metadata": {},
     "output_type": "display_data"
    },
    {
     "data": {
      "text/plain": [
       "<Figure size 2000x2000 with 0 Axes>"
      ]
     },
     "metadata": {},
     "output_type": "display_data"
    },
    {
     "data": {
      "text/plain": [
       "<Figure size 2000x2000 with 0 Axes>"
      ]
     },
     "metadata": {},
     "output_type": "display_data"
    },
    {
     "data": {
      "text/plain": [
       "<Figure size 2000x2000 with 0 Axes>"
      ]
     },
     "metadata": {},
     "output_type": "display_data"
    },
    {
     "data": {
      "text/plain": [
       "<Figure size 2000x2000 with 0 Axes>"
      ]
     },
     "metadata": {},
     "output_type": "display_data"
    },
    {
     "data": {
      "text/plain": [
       "<Figure size 2000x2000 with 0 Axes>"
      ]
     },
     "metadata": {},
     "output_type": "display_data"
    },
    {
     "data": {
      "text/plain": [
       "<Figure size 2000x2000 with 0 Axes>"
      ]
     },
     "metadata": {},
     "output_type": "display_data"
    },
    {
     "data": {
      "text/plain": [
       "<Figure size 2000x2000 with 0 Axes>"
      ]
     },
     "metadata": {},
     "output_type": "display_data"
    },
    {
     "data": {
      "text/plain": [
       "<Figure size 2000x2000 with 0 Axes>"
      ]
     },
     "metadata": {},
     "output_type": "display_data"
    },
    {
     "data": {
      "text/plain": [
       "<Figure size 2000x2000 with 0 Axes>"
      ]
     },
     "metadata": {},
     "output_type": "display_data"
    },
    {
     "data": {
      "text/plain": [
       "<Figure size 2000x2000 with 0 Axes>"
      ]
     },
     "metadata": {},
     "output_type": "display_data"
    },
    {
     "data": {
      "text/plain": [
       "<Figure size 2000x2000 with 0 Axes>"
      ]
     },
     "metadata": {},
     "output_type": "display_data"
    },
    {
     "data": {
      "text/plain": [
       "<Figure size 2000x2000 with 0 Axes>"
      ]
     },
     "metadata": {},
     "output_type": "display_data"
    },
    {
     "data": {
      "text/plain": [
       "<Figure size 2000x2000 with 0 Axes>"
      ]
     },
     "metadata": {},
     "output_type": "display_data"
    },
    {
     "data": {
      "text/plain": [
       "<Figure size 2000x2000 with 0 Axes>"
      ]
     },
     "metadata": {},
     "output_type": "display_data"
    },
    {
     "data": {
      "text/plain": [
       "<Figure size 2000x2000 with 0 Axes>"
      ]
     },
     "metadata": {},
     "output_type": "display_data"
    },
    {
     "data": {
      "text/plain": [
       "<Figure size 2000x2000 with 0 Axes>"
      ]
     },
     "metadata": {},
     "output_type": "display_data"
    },
    {
     "data": {
      "text/plain": [
       "<Figure size 2000x2000 with 0 Axes>"
      ]
     },
     "metadata": {},
     "output_type": "display_data"
    },
    {
     "data": {
      "text/plain": [
       "<Figure size 2000x2000 with 0 Axes>"
      ]
     },
     "metadata": {},
     "output_type": "display_data"
    },
    {
     "data": {
      "text/plain": [
       "<Figure size 2000x2000 with 0 Axes>"
      ]
     },
     "metadata": {},
     "output_type": "display_data"
    },
    {
     "data": {
      "text/plain": [
       "<Figure size 2000x2000 with 0 Axes>"
      ]
     },
     "metadata": {},
     "output_type": "display_data"
    },
    {
     "data": {
      "text/plain": [
       "<Figure size 2000x2000 with 0 Axes>"
      ]
     },
     "metadata": {},
     "output_type": "display_data"
    },
    {
     "data": {
      "text/plain": [
       "<Figure size 2000x2000 with 0 Axes>"
      ]
     },
     "metadata": {},
     "output_type": "display_data"
    },
    {
     "data": {
      "text/plain": [
       "<Figure size 2000x2000 with 0 Axes>"
      ]
     },
     "metadata": {},
     "output_type": "display_data"
    },
    {
     "data": {
      "text/plain": [
       "<Figure size 2000x2000 with 0 Axes>"
      ]
     },
     "metadata": {},
     "output_type": "display_data"
    },
    {
     "data": {
      "text/plain": [
       "<Figure size 2000x2000 with 0 Axes>"
      ]
     },
     "metadata": {},
     "output_type": "display_data"
    },
    {
     "data": {
      "text/plain": [
       "<Figure size 2000x2000 with 0 Axes>"
      ]
     },
     "metadata": {},
     "output_type": "display_data"
    },
    {
     "data": {
      "text/plain": [
       "<Figure size 2000x2000 with 0 Axes>"
      ]
     },
     "metadata": {},
     "output_type": "display_data"
    },
    {
     "data": {
      "text/plain": [
       "<Figure size 2000x2000 with 0 Axes>"
      ]
     },
     "metadata": {},
     "output_type": "display_data"
    },
    {
     "data": {
      "text/plain": [
       "<Figure size 2000x2000 with 0 Axes>"
      ]
     },
     "metadata": {},
     "output_type": "display_data"
    },
    {
     "data": {
      "text/plain": [
       "<Figure size 2000x2000 with 0 Axes>"
      ]
     },
     "metadata": {},
     "output_type": "display_data"
    },
    {
     "data": {
      "text/plain": [
       "<Figure size 2000x2000 with 0 Axes>"
      ]
     },
     "metadata": {},
     "output_type": "display_data"
    },
    {
     "data": {
      "text/plain": [
       "<Figure size 2000x2000 with 0 Axes>"
      ]
     },
     "metadata": {},
     "output_type": "display_data"
    },
    {
     "data": {
      "text/plain": [
       "<Figure size 2000x2000 with 0 Axes>"
      ]
     },
     "metadata": {},
     "output_type": "display_data"
    },
    {
     "data": {
      "text/plain": [
       "<Figure size 2000x2000 with 0 Axes>"
      ]
     },
     "metadata": {},
     "output_type": "display_data"
    },
    {
     "data": {
      "text/plain": [
       "<Figure size 2000x2000 with 0 Axes>"
      ]
     },
     "metadata": {},
     "output_type": "display_data"
    },
    {
     "data": {
      "text/plain": [
       "<Figure size 2000x2000 with 0 Axes>"
      ]
     },
     "metadata": {},
     "output_type": "display_data"
    },
    {
     "data": {
      "text/plain": [
       "<Figure size 2000x2000 with 0 Axes>"
      ]
     },
     "metadata": {},
     "output_type": "display_data"
    },
    {
     "data": {
      "text/plain": [
       "<Figure size 2000x2000 with 0 Axes>"
      ]
     },
     "metadata": {},
     "output_type": "display_data"
    },
    {
     "data": {
      "text/plain": [
       "<Figure size 2000x2000 with 0 Axes>"
      ]
     },
     "metadata": {},
     "output_type": "display_data"
    },
    {
     "data": {
      "text/plain": [
       "<Figure size 2000x2000 with 0 Axes>"
      ]
     },
     "metadata": {},
     "output_type": "display_data"
    },
    {
     "data": {
      "text/plain": [
       "<Figure size 2000x2000 with 0 Axes>"
      ]
     },
     "metadata": {},
     "output_type": "display_data"
    },
    {
     "data": {
      "text/plain": [
       "<Figure size 2000x2000 with 0 Axes>"
      ]
     },
     "metadata": {},
     "output_type": "display_data"
    },
    {
     "data": {
      "text/plain": [
       "<Figure size 2000x2000 with 0 Axes>"
      ]
     },
     "metadata": {},
     "output_type": "display_data"
    },
    {
     "data": {
      "text/plain": [
       "<Figure size 2000x2000 with 0 Axes>"
      ]
     },
     "metadata": {},
     "output_type": "display_data"
    },
    {
     "data": {
      "text/plain": [
       "<Figure size 2000x2000 with 0 Axes>"
      ]
     },
     "metadata": {},
     "output_type": "display_data"
    },
    {
     "data": {
      "text/plain": [
       "<Figure size 2000x2000 with 0 Axes>"
      ]
     },
     "metadata": {},
     "output_type": "display_data"
    },
    {
     "data": {
      "text/plain": [
       "<Figure size 2000x2000 with 0 Axes>"
      ]
     },
     "metadata": {},
     "output_type": "display_data"
    },
    {
     "data": {
      "text/plain": [
       "<Figure size 2000x2000 with 0 Axes>"
      ]
     },
     "metadata": {},
     "output_type": "display_data"
    },
    {
     "data": {
      "text/plain": [
       "<Figure size 2000x2000 with 0 Axes>"
      ]
     },
     "metadata": {},
     "output_type": "display_data"
    },
    {
     "data": {
      "text/plain": [
       "<Figure size 2000x2000 with 0 Axes>"
      ]
     },
     "metadata": {},
     "output_type": "display_data"
    },
    {
     "data": {
      "text/plain": [
       "<Figure size 2000x2000 with 0 Axes>"
      ]
     },
     "metadata": {},
     "output_type": "display_data"
    },
    {
     "data": {
      "text/plain": [
       "<Figure size 2000x2000 with 0 Axes>"
      ]
     },
     "metadata": {},
     "output_type": "display_data"
    },
    {
     "data": {
      "text/plain": [
       "<Figure size 2000x2000 with 0 Axes>"
      ]
     },
     "metadata": {},
     "output_type": "display_data"
    },
    {
     "data": {
      "text/plain": [
       "<Figure size 2000x2000 with 0 Axes>"
      ]
     },
     "metadata": {},
     "output_type": "display_data"
    },
    {
     "data": {
      "text/plain": [
       "<Figure size 2000x2000 with 0 Axes>"
      ]
     },
     "metadata": {},
     "output_type": "display_data"
    },
    {
     "data": {
      "text/plain": [
       "<Figure size 2000x2000 with 0 Axes>"
      ]
     },
     "metadata": {},
     "output_type": "display_data"
    },
    {
     "data": {
      "text/plain": [
       "<Figure size 2000x2000 with 0 Axes>"
      ]
     },
     "metadata": {},
     "output_type": "display_data"
    },
    {
     "data": {
      "text/plain": [
       "<Figure size 2000x2000 with 0 Axes>"
      ]
     },
     "metadata": {},
     "output_type": "display_data"
    },
    {
     "data": {
      "text/plain": [
       "<Figure size 2000x2000 with 0 Axes>"
      ]
     },
     "metadata": {},
     "output_type": "display_data"
    },
    {
     "data": {
      "text/plain": [
       "<Figure size 2000x2000 with 0 Axes>"
      ]
     },
     "metadata": {},
     "output_type": "display_data"
    },
    {
     "data": {
      "text/plain": [
       "<Figure size 2000x2000 with 0 Axes>"
      ]
     },
     "metadata": {},
     "output_type": "display_data"
    },
    {
     "data": {
      "text/plain": [
       "<Figure size 2000x2000 with 0 Axes>"
      ]
     },
     "metadata": {},
     "output_type": "display_data"
    },
    {
     "data": {
      "text/plain": [
       "<Figure size 2000x2000 with 0 Axes>"
      ]
     },
     "metadata": {},
     "output_type": "display_data"
    },
    {
     "data": {
      "text/plain": [
       "<Figure size 2000x2000 with 0 Axes>"
      ]
     },
     "metadata": {},
     "output_type": "display_data"
    },
    {
     "data": {
      "text/plain": [
       "<Figure size 2000x2000 with 0 Axes>"
      ]
     },
     "metadata": {},
     "output_type": "display_data"
    },
    {
     "data": {
      "text/plain": [
       "<Figure size 2000x2000 with 0 Axes>"
      ]
     },
     "metadata": {},
     "output_type": "display_data"
    },
    {
     "data": {
      "text/plain": [
       "<Figure size 2000x2000 with 0 Axes>"
      ]
     },
     "metadata": {},
     "output_type": "display_data"
    },
    {
     "data": {
      "text/plain": [
       "<Figure size 2000x2000 with 0 Axes>"
      ]
     },
     "metadata": {},
     "output_type": "display_data"
    },
    {
     "data": {
      "text/plain": [
       "<Figure size 2000x2000 with 0 Axes>"
      ]
     },
     "metadata": {},
     "output_type": "display_data"
    },
    {
     "data": {
      "text/plain": [
       "<Figure size 2000x2000 with 0 Axes>"
      ]
     },
     "metadata": {},
     "output_type": "display_data"
    },
    {
     "data": {
      "text/plain": [
       "<Figure size 2000x2000 with 0 Axes>"
      ]
     },
     "metadata": {},
     "output_type": "display_data"
    },
    {
     "data": {
      "text/plain": [
       "<Figure size 2000x2000 with 0 Axes>"
      ]
     },
     "metadata": {},
     "output_type": "display_data"
    },
    {
     "data": {
      "text/plain": [
       "<Figure size 2000x2000 with 0 Axes>"
      ]
     },
     "metadata": {},
     "output_type": "display_data"
    },
    {
     "data": {
      "text/plain": [
       "<Figure size 2000x2000 with 0 Axes>"
      ]
     },
     "metadata": {},
     "output_type": "display_data"
    },
    {
     "data": {
      "text/plain": [
       "<Figure size 2000x2000 with 0 Axes>"
      ]
     },
     "metadata": {},
     "output_type": "display_data"
    },
    {
     "data": {
      "text/plain": [
       "<Figure size 2000x2000 with 0 Axes>"
      ]
     },
     "metadata": {},
     "output_type": "display_data"
    },
    {
     "data": {
      "text/plain": [
       "<Figure size 2000x2000 with 0 Axes>"
      ]
     },
     "metadata": {},
     "output_type": "display_data"
    },
    {
     "data": {
      "text/plain": [
       "<Figure size 2000x2000 with 0 Axes>"
      ]
     },
     "metadata": {},
     "output_type": "display_data"
    },
    {
     "data": {
      "text/plain": [
       "<Figure size 2000x2000 with 0 Axes>"
      ]
     },
     "metadata": {},
     "output_type": "display_data"
    },
    {
     "data": {
      "text/plain": [
       "<Figure size 2000x2000 with 0 Axes>"
      ]
     },
     "metadata": {},
     "output_type": "display_data"
    },
    {
     "data": {
      "text/plain": [
       "<Figure size 2000x2000 with 0 Axes>"
      ]
     },
     "metadata": {},
     "output_type": "display_data"
    },
    {
     "data": {
      "text/plain": [
       "<Figure size 2000x2000 with 0 Axes>"
      ]
     },
     "metadata": {},
     "output_type": "display_data"
    },
    {
     "data": {
      "text/plain": [
       "<Figure size 2000x2000 with 0 Axes>"
      ]
     },
     "metadata": {},
     "output_type": "display_data"
    },
    {
     "data": {
      "text/plain": [
       "<Figure size 2000x2000 with 0 Axes>"
      ]
     },
     "metadata": {},
     "output_type": "display_data"
    },
    {
     "data": {
      "text/plain": [
       "<Figure size 2000x2000 with 0 Axes>"
      ]
     },
     "metadata": {},
     "output_type": "display_data"
    },
    {
     "data": {
      "text/plain": [
       "<Figure size 2000x2000 with 0 Axes>"
      ]
     },
     "metadata": {},
     "output_type": "display_data"
    },
    {
     "data": {
      "text/plain": [
       "<Figure size 2000x2000 with 0 Axes>"
      ]
     },
     "metadata": {},
     "output_type": "display_data"
    },
    {
     "data": {
      "text/plain": [
       "<Figure size 2000x2000 with 0 Axes>"
      ]
     },
     "metadata": {},
     "output_type": "display_data"
    },
    {
     "data": {
      "text/plain": [
       "<Figure size 2000x2000 with 0 Axes>"
      ]
     },
     "metadata": {},
     "output_type": "display_data"
    },
    {
     "data": {
      "text/plain": [
       "<Figure size 2000x2000 with 0 Axes>"
      ]
     },
     "metadata": {},
     "output_type": "display_data"
    },
    {
     "data": {
      "text/plain": [
       "<Figure size 2000x2000 with 0 Axes>"
      ]
     },
     "metadata": {},
     "output_type": "display_data"
    },
    {
     "data": {
      "text/plain": [
       "<Figure size 2000x2000 with 0 Axes>"
      ]
     },
     "metadata": {},
     "output_type": "display_data"
    },
    {
     "data": {
      "text/plain": [
       "<Figure size 2000x2000 with 0 Axes>"
      ]
     },
     "metadata": {},
     "output_type": "display_data"
    },
    {
     "data": {
      "text/plain": [
       "<Figure size 2000x2000 with 0 Axes>"
      ]
     },
     "metadata": {},
     "output_type": "display_data"
    },
    {
     "data": {
      "text/plain": [
       "<Figure size 2000x2000 with 0 Axes>"
      ]
     },
     "metadata": {},
     "output_type": "display_data"
    },
    {
     "data": {
      "text/plain": [
       "<Figure size 2000x2000 with 0 Axes>"
      ]
     },
     "metadata": {},
     "output_type": "display_data"
    },
    {
     "data": {
      "text/plain": [
       "<Figure size 2000x2000 with 0 Axes>"
      ]
     },
     "metadata": {},
     "output_type": "display_data"
    },
    {
     "data": {
      "text/plain": [
       "<Figure size 2000x2000 with 0 Axes>"
      ]
     },
     "metadata": {},
     "output_type": "display_data"
    },
    {
     "data": {
      "text/plain": [
       "<Figure size 2000x2000 with 0 Axes>"
      ]
     },
     "metadata": {},
     "output_type": "display_data"
    },
    {
     "data": {
      "text/plain": [
       "<Figure size 2000x2000 with 0 Axes>"
      ]
     },
     "metadata": {},
     "output_type": "display_data"
    },
    {
     "data": {
      "text/plain": [
       "<Figure size 2000x2000 with 0 Axes>"
      ]
     },
     "metadata": {},
     "output_type": "display_data"
    },
    {
     "data": {
      "text/plain": [
       "<Figure size 2000x2000 with 0 Axes>"
      ]
     },
     "metadata": {},
     "output_type": "display_data"
    },
    {
     "data": {
      "text/plain": [
       "<Figure size 2000x2000 with 0 Axes>"
      ]
     },
     "metadata": {},
     "output_type": "display_data"
    },
    {
     "data": {
      "text/plain": [
       "<Figure size 2000x2000 with 0 Axes>"
      ]
     },
     "metadata": {},
     "output_type": "display_data"
    },
    {
     "data": {
      "text/plain": [
       "<Figure size 2000x2000 with 0 Axes>"
      ]
     },
     "metadata": {},
     "output_type": "display_data"
    },
    {
     "data": {
      "text/plain": [
       "<Figure size 2000x2000 with 0 Axes>"
      ]
     },
     "metadata": {},
     "output_type": "display_data"
    },
    {
     "data": {
      "text/plain": [
       "<Figure size 2000x2000 with 0 Axes>"
      ]
     },
     "metadata": {},
     "output_type": "display_data"
    },
    {
     "data": {
      "text/plain": [
       "<Figure size 2000x2000 with 0 Axes>"
      ]
     },
     "metadata": {},
     "output_type": "display_data"
    },
    {
     "data": {
      "text/plain": [
       "<Figure size 2000x2000 with 0 Axes>"
      ]
     },
     "metadata": {},
     "output_type": "display_data"
    },
    {
     "data": {
      "text/plain": [
       "<Figure size 2000x2000 with 0 Axes>"
      ]
     },
     "metadata": {},
     "output_type": "display_data"
    }
   ],
   "source": [
    "#Combine three algorithms together\n",
    "hist_range = (5,30000)\n",
    "bins = 101\n",
    "\n",
    "for file in files:\n",
    "    for time in times:\n",
    "        for trial in range(5):\n",
    "            fig, ax = plt.subplots(figsize=(20,20))\n",
    "            matches = df[(df['file'] == file) & (df['time'] == time) & (df['trial'] == trial+1)]\n",
    "            #Extract Voronoi data\n",
    "            vor = matches.iloc[0]['Voronoi']\n",
    "            #Get volume of all closed polygons\n",
    "            vol_Vor = np.zeros(vor.npoints)\n",
    "            for idx, i_region in enumerate(vor.point_region):\n",
    "                if -1 not in vor.regions[i_region]: #Remove open polygons\n",
    "                    vol_Vor[idx] = spatial.ConvexHull(vor.vertices[vor.regions[i_region]]).volume\n",
    "            \n",
    "            #hists[i,:], _ = np.histogram(vol_Vor, range=hist_range, bins = bins, weights=np.ones_like(vol_Vor) / len(vol_Vor), density = True)\n",
    "            \n",
    "            #Normalize colour bar\n",
    "            norm = mpl.colors.Normalize(vmin = min(vol_Vor), vmax=300000, clip=True)\n",
    "            mapper = cm.ScalarMappable(norm=norm, cmap=cm.inferno)\n",
    "            #Plot Voronoi map with colour\n",
    "            spatial.voronoi_plot_2d(vor, ax = ax, show_points = False, show_vertices=False)\n",
    "            for r in range(len(vor.point_region)):\n",
    "                region = vor.regions[vor.point_region[r]]\n",
    "                if not -1 in region:\n",
    "                    polygon = [vor.vertices[i] for i in region]\n",
    "                    ax.fill(*zip(*polygon), color=mapper.to_rgba(vol_Vor[r]))\n",
    "            \n",
    "            nn = matches.iloc[0]['NN'][0]\n",
    "            norm2 = mpl.colors.Normalize(vmin = 0, vmax=250, clip=True)\n",
    "            mapper2 = cm.ScalarMappable(norm=norm2, cmap=cm.viridis_r)\n",
    "            ax.scatter(vor.points[:,0], vor.points[:,1], c=nn.results[\"nn_distance\"], s=8, norm=norm2, cmap=cm.viridis_r)\n",
    "                       \n",
    "            #ax.get_legend().remove()\n",
    "            fig.savefig(save_folder+time+\"_\"+file+\"_\"+str(trial)+\".png\", dpi=300)\n",
    "            fig.clf()"
   ]
  },
  {
   "cell_type": "code",
   "execution_count": null,
   "id": "282a7594-aef7-4611-851e-6ea54d040841",
   "metadata": {},
   "outputs": [],
   "source": []
  }
 ],
 "metadata": {
  "kernelspec": {
   "display_name": "Python 3 (ipykernel)",
   "language": "python",
   "name": "python3"
  },
  "language_info": {
   "codemirror_mode": {
    "name": "ipython",
    "version": 3
   },
   "file_extension": ".py",
   "mimetype": "text/x-python",
   "name": "python",
   "nbconvert_exporter": "python",
   "pygments_lexer": "ipython3",
   "version": "3.11.4"
  }
 },
 "nbformat": 4,
 "nbformat_minor": 5
}
